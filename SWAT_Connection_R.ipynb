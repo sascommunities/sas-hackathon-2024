{
 "cells": [
  {
   "cell_type": "code",
   "execution_count": null,
   "id": "46895b0d-b67b-422e-9b05-224d97c8f8cd",
   "metadata": {},
   "outputs": [],
   "source": [
    "library(swat)\n",
    "conn <- swat::CAS(Sys.getenv('CAS_CONTROLLER'), 5570, password=Sys.getenv('ACCESS_TOKEN'))\n",
    "conn"
   ]
  },
  {
   "cell_type": "code",
   "execution_count": null,
   "id": "4a7f01d4-94af-4817-9114-8b41140c19c0",
   "metadata": {},
   "outputs": [],
   "source": []
  }
 ],
 "metadata": {
  "kernelspec": {
   "display_name": "R",
   "language": "R",
   "name": "ir"
  },
  "language_info": {
   "codemirror_mode": "r",
   "file_extension": ".r",
   "mimetype": "text/x-r-source",
   "name": "R",
   "pygments_lexer": "r",
   "version": "4.4.1"
  }
 },
 "nbformat": 4,
 "nbformat_minor": 5
}
