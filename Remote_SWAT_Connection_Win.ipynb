{
 "cells": [
  {
   "cell_type": "code",
   "execution_count": null,
   "id": "e0d5b86c-7711-4bbc-8997-421138836639",
   "metadata": {},
   "outputs": [],
   "source": [
    "# Create Variables\n",
    "sasserver=\"\" #URL of SAS Viya for Learners\n",
    "files_path=\"\" # Path to Jupyter notebook and .pem files"
   ]
  },
  {
   "cell_type": "code",
   "execution_count": null,
   "id": "0642e28f-dd18-458e-9fcd-836ca534e7c1",
   "metadata": {},
   "outputs": [],
   "source": [
    "# Import packages and make a SWAT connection\n",
    "import os\n",
    "import swat\n",
    "%cd {files_path}\n",
    "conn = swat.CAS(hostname=sasserver, ssl_ca_list=\".\\certificate.pem\", password=os.environ['ACCESS_TOKEN'], protocol=\"https\")\n",
    "conn"
   ]
  },
  {
   "cell_type": "code",
   "execution_count": null,
   "id": "0886fcc4-9c18-4397-900d-9a78636ab848",
   "metadata": {},
   "outputs": [],
   "source": []
  }
 ],
 "metadata": {
  "kernelspec": {
   "display_name": "Python 3 (ipykernel)",
   "language": "python",
   "name": "python3"
  },
  "language_info": {
   "codemirror_mode": {
    "name": "ipython",
    "version": 3
   },
   "file_extension": ".py",
   "mimetype": "text/x-python",
   "name": "python",
   "nbconvert_exporter": "python",
   "pygments_lexer": "ipython3",
   "version": "3.11.9"
  }
 },
 "nbformat": 4,
 "nbformat_minor": 5
}
